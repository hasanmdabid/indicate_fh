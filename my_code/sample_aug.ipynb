{
 "cells": [
  {
   "cell_type": "code",
   "execution_count": 24,
   "metadata": {},
   "outputs": [
    {
     "name": "stdout",
     "output_type": "stream",
     "text": [
      "(890, 256, 256, 3)\n"
     ]
    }
   ],
   "source": [
    "import os\n",
    "from PIL import Image\n",
    "import numpy as np\n",
    "from keras.preprocessing.image import ImageDataGenerator\n",
    "import random\n",
    "import numpy as np\n",
    "from skimage import io\n",
    "import os\n",
    "from PIL import Image\n",
    "from clear_folder import clear_folder\n",
    "#from skimage.transform import resize\n",
    "\n",
    "\n",
    "\n",
    "datagen = ImageDataGenerator(\n",
    "        rotation_range=90,     #Random rotation between 0 and 45\n",
    "        width_shift_range=0.2,   #% shift\n",
    "        height_shift_range=0.2,\n",
    "        shear_range=0.2,\n",
    "        zoom_range=0.2,\n",
    "        horizontal_flip=True,\n",
    "        fill_mode='constant')    #Also try nearest, constant, reflect, wrap\n",
    "\n",
    "####################################################################\n",
    "#Multiple images.\n",
    "#Manually read each image and create an array to be supplied to datagen via flow method\n",
    "\n",
    "\n",
    "import os\n",
    "from PIL import Image\n",
    "import numpy as np\n",
    "\n",
    "def read_images_to_array(directory_path, target_size=(256, 256)):\n",
    "    image_list = []\n",
    "\n",
    "    for filename in os.listdir(directory_path):\n",
    "        if filename.endswith(('.jpg', '.jpeg', '.png', '.gif')):  # Add more image formats as needed\n",
    "            img = Image.open(os.path.join(directory_path, filename)).convert('RGB')\n",
    "            img = img.resize(target_size)  # Resize the image to the target size\n",
    "            img_array = np.array(img)\n",
    "            \n",
    "            # Check if the image is grayscale and expand dimensions if necessary\n",
    "            if len(img_array.shape) == 2:\n",
    "                img_array = np.expand_dims(img_array, axis=2)\n",
    "            \n",
    "            image_list.append(img_array)\n",
    "\n",
    "    images_as_array = np.array(image_list)\n",
    "\n",
    "    return images_as_array\n",
    "\n",
    "\n",
    "# Directory path containing the images\n",
    "directory_path = '/home/abidhasan/Documents/Indicate_FH/data/effected'\n",
    "images_array = read_images_to_array(directory_path)\n",
    "\n",
    "# Now, you have all the images as a 4D NumPy array in 'images_array'\n",
    "# The shape of the array will be (num_images, 256, 256, 3) for RGB images\n",
    "# If your images are grayscale, the shape will be (num_images, 256, 256, 1)\n",
    "print(images_array.shape)\n"
   ]
  },
  {
   "cell_type": "code",
   "execution_count": 25,
   "metadata": {},
   "outputs": [
    {
     "name": "stdout",
     "output_type": "stream",
     "text": [
      "(890, 256, 256, 3)\n"
     ]
    }
   ],
   "source": [
    "print(images_array.shape)\n",
    "i = 0\n",
    "for batch in datagen.flow(images_array, batch_size=16,  \n",
    "                          save_to_dir='/home/abidhasan/Documents/Indicate_FH/aug_image/effected', \n",
    "                          save_prefix='aug', \n",
    "                          save_format='png'):\n",
    "    i += 1\n",
    "    if i > 19:\n",
    "        break  # otherwise the generator would loop indefinitely  "
   ]
  },
  {
   "cell_type": "code",
   "execution_count": null,
   "metadata": {},
   "outputs": [],
   "source": []
  }
 ],
 "metadata": {
  "kernelspec": {
   "display_name": "tf",
   "language": "python",
   "name": "python3"
  },
  "language_info": {
   "codemirror_mode": {
    "name": "ipython",
    "version": 3
   },
   "file_extension": ".py",
   "mimetype": "text/x-python",
   "name": "python",
   "nbconvert_exporter": "python",
   "pygments_lexer": "ipython3",
   "version": "3.9.17"
  },
  "orig_nbformat": 4
 },
 "nbformat": 4,
 "nbformat_minor": 2
}
